{
 "cells": [
  {
   "cell_type": "markdown",
   "metadata": {
    "colab_type": "text",
    "id": "Tia3MP1SJpgj"
   },
   "source": [
    "# Springboard Data Science Career Track Unit 4 Challenge - Tier 3 Complete\n",
    "\n",
    "## Objectives\n",
    "Hey! Great job getting through those challenging DataCamp courses. You're learning a lot in a short span of time. \n",
    "\n",
    "In this notebook, you're going to apply the skills you've been learning, bridging the gap between the controlled environment of DataCamp and the *slightly* messier work that data scientists do with actual datasets!\n",
    "\n",
    "Here’s the mystery we’re going to solve: ***which boroughs of London have seen the greatest increase in housing prices, on average, over the last two decades?***\n",
    "\n",
    "\n",
    "A borough is just a fancy word for district. You may be familiar with the five boroughs of New York… well, there are 32 boroughs within Greater London [(here's some info for the curious)](https://en.wikipedia.org/wiki/London_boroughs). Some of them are more desirable areas to live in, and the data will reflect that with a greater rise in housing prices.\n",
    "\n",
    "***This is the Tier 3 notebook, which means it's not filled in at all: we'll just give you the skeleton of a project, the brief and the data. It's up to you to play around with it and see what you can find out! Good luck! If you struggle, feel free to look at easier tiers for help; but try to dip in and out of them, as the more independent work you do, the better it is for your learning!***\n",
    "\n",
    "This challenge will make use of only what you learned in the following DataCamp courses: \n",
    "- Prework courses (Introduction to Python for Data Science, Intermediate Python for Data Science)\n",
    "- Data Types for Data Science\n",
    "- Python Data Science Toolbox (Part One) \n",
    "- pandas Foundations\n",
    "- Manipulating DataFrames with pandas\n",
    "- Merging DataFrames with pandas\n",
    "\n",
    "Of the tools, techniques and concepts in the above DataCamp courses, this challenge should require the application of the following: \n",
    "- **pandas**\n",
    "    - **data ingestion and inspection** (pandas Foundations, Module One) \n",
    "    - **exploratory data analysis** (pandas Foundations, Module Two)\n",
    "    - **tidying and cleaning** (Manipulating DataFrames with pandas, Module Three) \n",
    "    - **transforming DataFrames** (Manipulating DataFrames with pandas, Module One)\n",
    "    - **subsetting DataFrames with lists** (Manipulating DataFrames with pandas, Module One) \n",
    "    - **filtering DataFrames** (Manipulating DataFrames with pandas, Module One) \n",
    "    - **grouping data** (Manipulating DataFrames with pandas, Module Four) \n",
    "    - **melting data** (Manipulating DataFrames with pandas, Module Three) \n",
    "    - **advanced indexing** (Manipulating DataFrames with pandas, Module Four) \n",
    "- **matplotlib** (Intermediate Python for Data Science, Module One)\n",
    "- **fundamental data types** (Data Types for Data Science, Module One) \n",
    "- **dictionaries** (Intermediate Python for Data Science, Module Two)\n",
    "- **handling dates and times** (Data Types for Data Science, Module Four)\n",
    "- **function definition** (Python Data Science Toolbox - Part One, Module One)\n",
    "- **default arguments, variable length, and scope** (Python Data Science Toolbox - Part One, Module Two) \n",
    "- **lambda functions and error handling** (Python Data Science Toolbox - Part One, Module Four) "
   ]
  },
  {
   "cell_type": "markdown",
   "metadata": {
    "colab_type": "text",
    "id": "Ipgd2nV8Jpgl"
   },
   "source": [
    "## The Data Science Pipeline\n",
    "\n",
    "This is Tier Three, so we'll get you started. But after that, it's all in your hands! When you feel done with your investigations, look back over what you've accomplished, and prepare a quick presentation of your findings for the next mentor meeting. \n",
    "\n",
    "Data Science is magical. In this case study, you'll get to apply some complex machine learning algorithms. But as  [David Spiegelhalter](https://www.youtube.com/watch?v=oUs1uvsz0Ok) reminds us, there is no substitute for simply **taking a really, really good look at the data.** Sometimes, this is all we need to answer our question.\n",
    "\n",
    "Data Science projects generally adhere to the four stages of Data Science Pipeline:\n",
    "1. Sourcing and loading \n",
    "2. Cleaning, transforming, and visualizing \n",
    "3. Modeling \n",
    "4. Evaluating and concluding \n"
   ]
  },
  {
   "cell_type": "markdown",
   "metadata": {
    "colab_type": "text",
    "id": "zswDqbefJpgm"
   },
   "source": [
    "### 1. Sourcing and Loading \n",
    "\n",
    "Any Data Science project kicks off by importing  ***pandas***. The documentation of this wonderful library can be found [here](https://pandas.pydata.org/). As you've seen, pandas is conveniently connected to the [Numpy](http://www.numpy.org/) and [Matplotlib](https://matplotlib.org/) libraries. \n",
    "\n",
    "***Hint:*** This part of the data science pipeline will test those skills you acquired in the pandas Foundations course, Module One. "
   ]
  },
  {
   "cell_type": "markdown",
   "metadata": {
    "colab_type": "text",
    "id": "aEau5nEvJpgm"
   },
   "source": [
    "#### 1.1. Importing Libraries"
   ]
  },
  {
   "cell_type": "code",
   "execution_count": 1,
   "metadata": {
    "colab": {},
    "colab_type": "code",
    "id": "7Bt_Q_oPJpgn"
   },
   "outputs": [],
   "source": [
    "# Let's import the pandas, numpy libraries as pd, and np respectively. \n",
    "import numpy as np\n",
    "import pandas as pd\n",
    "\n",
    "# Load the pyplot collection of functions from matplotlib, as plt \n",
    "import matplotlib.pyplot as plt"
   ]
  },
  {
   "cell_type": "markdown",
   "metadata": {
    "colab_type": "text",
    "id": "koUrawxsJpgq"
   },
   "source": [
    "#### 1.2.  Loading the data\n",
    "Your data comes from the [London Datastore](https://data.london.gov.uk/): a free, open-source data-sharing portal for London-oriented datasets. "
   ]
  },
  {
   "cell_type": "code",
   "execution_count": 2,
   "metadata": {
    "colab": {},
    "colab_type": "code",
    "id": "AiLiD4v3Jpgr"
   },
   "outputs": [],
   "source": [
    "# First, make a variable called url_LondonHousePrices, and assign it the following link, enclosed in quotation-marks as a string:\n",
    "# https://data.london.gov.uk/download/uk-house-price-index/70ac0766-8902-4eb5-aab5-01951aaed773/UK%20House%20price%20index.xls\n",
    "\n",
    "url_LondonHousePrices = \"https://data.london.gov.uk/download/uk-house-price-index/70ac0766-8902-4eb5-aab5-01951aaed773/UK%20House%20price%20index.xls\"\n",
    "\n",
    "# The dataset we're interested in contains the Average prices of the houses, and is actually on a particular sheet of the Excel file. \n",
    "# As a result, we need to specify the sheet name in the read_excel() method.\n",
    "# Put this data into a variable called properties.  \n",
    "properties = pd.read_excel(url_LondonHousePrices, sheet_name='Average price', index_col= None)"
   ]
  },
  {
   "cell_type": "markdown",
   "metadata": {
    "colab_type": "text",
    "id": "POukEJXgJpgu"
   },
   "source": [
    "### 2. Cleaning, transforming, and visualizing\n",
    "This second stage is arguably the most important part of any Data Science project. The first thing to do is take a proper look at the data. Cleaning forms the majority of this stage, and can be done both before or after Transformation.\n",
    "\n",
    "The end goal of data cleaning is to have tidy data. When data is tidy: \n",
    "\n",
    "1. Each variable has a column.\n",
    "2. Each observation forms a row.\n",
    "\n",
    "Keep the end goal in mind as you move through this process, every step will take you closer. \n",
    "\n",
    "\n",
    "\n",
    "***Hint:*** This part of the data science pipeline should test those skills you acquired in: \n",
    "- Intermediate Python for data science, all modules.\n",
    "- pandas Foundations, all modules. \n",
    "- Manipulating DataFrames with pandas, all modules.\n",
    "- Data Types for Data Science, Module Four.\n",
    "- Python Data Science Toolbox - Part One, all modules"
   ]
  },
  {
   "cell_type": "markdown",
   "metadata": {
    "colab_type": "text",
    "id": "Te0Q548tnzZa"
   },
   "source": [
    "**2.1. Exploring your data** \n",
    "\n",
    "Think about your pandas functions for checking out a dataframe. "
   ]
  },
  {
   "cell_type": "code",
   "execution_count": 3,
   "metadata": {
    "colab": {},
    "colab_type": "code",
    "id": "Rxirxw_qoAJa"
   },
   "outputs": [
    {
     "data": {
      "text/html": [
       "<div>\n",
       "<style scoped>\n",
       "    .dataframe tbody tr th:only-of-type {\n",
       "        vertical-align: middle;\n",
       "    }\n",
       "\n",
       "    .dataframe tbody tr th {\n",
       "        vertical-align: top;\n",
       "    }\n",
       "\n",
       "    .dataframe thead th {\n",
       "        text-align: right;\n",
       "    }\n",
       "</style>\n",
       "<table border=\"1\" class=\"dataframe\">\n",
       "  <thead>\n",
       "    <tr style=\"text-align: right;\">\n",
       "      <th></th>\n",
       "      <th>Unnamed: 0</th>\n",
       "      <th>City of London</th>\n",
       "      <th>Barking &amp; Dagenham</th>\n",
       "      <th>Barnet</th>\n",
       "      <th>Bexley</th>\n",
       "      <th>Brent</th>\n",
       "      <th>Bromley</th>\n",
       "      <th>Camden</th>\n",
       "      <th>Croydon</th>\n",
       "      <th>Ealing</th>\n",
       "      <th>...</th>\n",
       "      <th>NORTH WEST</th>\n",
       "      <th>YORKS &amp; THE HUMBER</th>\n",
       "      <th>EAST MIDLANDS</th>\n",
       "      <th>WEST MIDLANDS</th>\n",
       "      <th>EAST OF ENGLAND</th>\n",
       "      <th>LONDON</th>\n",
       "      <th>SOUTH EAST</th>\n",
       "      <th>SOUTH WEST</th>\n",
       "      <th>Unnamed: 47</th>\n",
       "      <th>England</th>\n",
       "    </tr>\n",
       "  </thead>\n",
       "  <tbody>\n",
       "    <tr>\n",
       "      <th>0</th>\n",
       "      <td>NaT</td>\n",
       "      <td>E09000001</td>\n",
       "      <td>E09000002</td>\n",
       "      <td>E09000003</td>\n",
       "      <td>E09000004</td>\n",
       "      <td>E09000005</td>\n",
       "      <td>E09000006</td>\n",
       "      <td>E09000007</td>\n",
       "      <td>E09000008</td>\n",
       "      <td>E09000009</td>\n",
       "      <td>...</td>\n",
       "      <td>E12000002</td>\n",
       "      <td>E12000003</td>\n",
       "      <td>E12000004</td>\n",
       "      <td>E12000005</td>\n",
       "      <td>E12000006</td>\n",
       "      <td>E12000007</td>\n",
       "      <td>E12000008</td>\n",
       "      <td>E12000009</td>\n",
       "      <td>NaN</td>\n",
       "      <td>E92000001</td>\n",
       "    </tr>\n",
       "    <tr>\n",
       "      <th>1</th>\n",
       "      <td>1995-01-01</td>\n",
       "      <td>91448.98487</td>\n",
       "      <td>50460.2266</td>\n",
       "      <td>93284.51832</td>\n",
       "      <td>64958.09036</td>\n",
       "      <td>71306.56698</td>\n",
       "      <td>81671.47692</td>\n",
       "      <td>120932.8881</td>\n",
       "      <td>69158.16225</td>\n",
       "      <td>79885.89069</td>\n",
       "      <td>...</td>\n",
       "      <td>43958.48001</td>\n",
       "      <td>44803.42878</td>\n",
       "      <td>45544.52227</td>\n",
       "      <td>48527.52339</td>\n",
       "      <td>56701.5961</td>\n",
       "      <td>74435.76052</td>\n",
       "      <td>64018.87894</td>\n",
       "      <td>54705.1579</td>\n",
       "      <td>NaN</td>\n",
       "      <td>53202.77128</td>\n",
       "    </tr>\n",
       "    <tr>\n",
       "      <th>2</th>\n",
       "      <td>1995-02-01</td>\n",
       "      <td>82202.77314</td>\n",
       "      <td>51085.77983</td>\n",
       "      <td>93190.16963</td>\n",
       "      <td>64787.92069</td>\n",
       "      <td>72022.26197</td>\n",
       "      <td>81657.55944</td>\n",
       "      <td>119508.8622</td>\n",
       "      <td>68951.09542</td>\n",
       "      <td>80897.06551</td>\n",
       "      <td>...</td>\n",
       "      <td>43925.42289</td>\n",
       "      <td>44528.80721</td>\n",
       "      <td>46051.57066</td>\n",
       "      <td>49341.29029</td>\n",
       "      <td>56593.59475</td>\n",
       "      <td>72777.93709</td>\n",
       "      <td>63715.02399</td>\n",
       "      <td>54356.14843</td>\n",
       "      <td>NaN</td>\n",
       "      <td>53096.1549</td>\n",
       "    </tr>\n",
       "    <tr>\n",
       "      <th>3</th>\n",
       "      <td>1995-03-01</td>\n",
       "      <td>79120.70256</td>\n",
       "      <td>51268.96956</td>\n",
       "      <td>92247.52435</td>\n",
       "      <td>64367.49344</td>\n",
       "      <td>72015.76274</td>\n",
       "      <td>81449.31143</td>\n",
       "      <td>120282.2131</td>\n",
       "      <td>68712.44341</td>\n",
       "      <td>81379.86288</td>\n",
       "      <td>...</td>\n",
       "      <td>44434.8681</td>\n",
       "      <td>45200.46775</td>\n",
       "      <td>45383.82395</td>\n",
       "      <td>49442.17973</td>\n",
       "      <td>56171.18278</td>\n",
       "      <td>73896.84204</td>\n",
       "      <td>64113.60858</td>\n",
       "      <td>53583.07667</td>\n",
       "      <td>NaN</td>\n",
       "      <td>53201.2843</td>\n",
       "    </tr>\n",
       "    <tr>\n",
       "      <th>4</th>\n",
       "      <td>1995-04-01</td>\n",
       "      <td>77101.20804</td>\n",
       "      <td>53133.50526</td>\n",
       "      <td>90762.87492</td>\n",
       "      <td>64277.66881</td>\n",
       "      <td>72965.63094</td>\n",
       "      <td>81124.41227</td>\n",
       "      <td>120097.899</td>\n",
       "      <td>68610.04641</td>\n",
       "      <td>82188.90498</td>\n",
       "      <td>...</td>\n",
       "      <td>44267.7796</td>\n",
       "      <td>45614.34341</td>\n",
       "      <td>46124.23045</td>\n",
       "      <td>49455.93299</td>\n",
       "      <td>56567.89582</td>\n",
       "      <td>74455.28754</td>\n",
       "      <td>64623.22395</td>\n",
       "      <td>54786.01938</td>\n",
       "      <td>NaN</td>\n",
       "      <td>53590.8548</td>\n",
       "    </tr>\n",
       "  </tbody>\n",
       "</table>\n",
       "<p>5 rows × 49 columns</p>\n",
       "</div>"
      ],
      "text/plain": [
       "  Unnamed: 0 City of London Barking & Dagenham       Barnet       Bexley  \\\n",
       "0        NaT      E09000001          E09000002    E09000003    E09000004   \n",
       "1 1995-01-01    91448.98487         50460.2266  93284.51832  64958.09036   \n",
       "2 1995-02-01    82202.77314        51085.77983  93190.16963  64787.92069   \n",
       "3 1995-03-01    79120.70256        51268.96956  92247.52435  64367.49344   \n",
       "4 1995-04-01    77101.20804        53133.50526  90762.87492  64277.66881   \n",
       "\n",
       "         Brent      Bromley       Camden      Croydon       Ealing  ...  \\\n",
       "0    E09000005    E09000006    E09000007    E09000008    E09000009  ...   \n",
       "1  71306.56698  81671.47692  120932.8881  69158.16225  79885.89069  ...   \n",
       "2  72022.26197  81657.55944  119508.8622  68951.09542  80897.06551  ...   \n",
       "3  72015.76274  81449.31143  120282.2131  68712.44341  81379.86288  ...   \n",
       "4  72965.63094  81124.41227   120097.899  68610.04641  82188.90498  ...   \n",
       "\n",
       "    NORTH WEST YORKS & THE HUMBER EAST MIDLANDS WEST MIDLANDS EAST OF ENGLAND  \\\n",
       "0    E12000002          E12000003     E12000004     E12000005       E12000006   \n",
       "1  43958.48001        44803.42878   45544.52227   48527.52339      56701.5961   \n",
       "2  43925.42289        44528.80721   46051.57066   49341.29029     56593.59475   \n",
       "3   44434.8681        45200.46775   45383.82395   49442.17973     56171.18278   \n",
       "4   44267.7796        45614.34341   46124.23045   49455.93299     56567.89582   \n",
       "\n",
       "        LONDON   SOUTH EAST   SOUTH WEST Unnamed: 47      England  \n",
       "0    E12000007    E12000008    E12000009         NaN    E92000001  \n",
       "1  74435.76052  64018.87894   54705.1579         NaN  53202.77128  \n",
       "2  72777.93709  63715.02399  54356.14843         NaN   53096.1549  \n",
       "3  73896.84204  64113.60858  53583.07667         NaN   53201.2843  \n",
       "4  74455.28754  64623.22395  54786.01938         NaN   53590.8548  \n",
       "\n",
       "[5 rows x 49 columns]"
      ]
     },
     "execution_count": 3,
     "metadata": {},
     "output_type": "execute_result"
    }
   ],
   "source": [
    "properties.shape\n",
    "properties.head()"
   ]
  },
  {
   "cell_type": "markdown",
   "metadata": {
    "colab_type": "text",
    "id": "tE9Sqt9-oAta"
   },
   "source": [
    "**2.2. Cleaning the data**\n",
    "\n",
    "You might find you need to transpose your dataframe, check out what its row indexes are, and reset the index. You  also might find you need to assign the values of the first row to your column headings  . (Hint: recall the .columns feature of DataFrames, as well as the iloc[] method).\n",
    "\n",
    "Don't be afraid to use StackOverflow for help  with this."
   ]
  },
  {
   "cell_type": "code",
   "execution_count": 4,
   "metadata": {
    "colab": {},
    "colab_type": "code",
    "id": "cdAu1A3YoH_r"
   },
   "outputs": [],
   "source": [
    "properties_T = properties.transpose()\n",
    "properties_T = properties_T.reset_index()\n",
    "properties_T.columns = properties_T.iloc[0]\n",
    "properties_T = properties_T.drop(0)"
   ]
  },
  {
   "cell_type": "markdown",
   "metadata": {
    "colab_type": "text",
    "id": "o1uLbJAsoIjK"
   },
   "source": [
    "**2.3. Cleaning the data (part 2)**\n",
    "\n",
    "You might we have to **rename** a couple columns. How do you do this? The clue's pretty bold..."
   ]
  },
  {
   "cell_type": "code",
   "execution_count": 5,
   "metadata": {
    "colab": {},
    "colab_type": "code",
    "id": "GKkmn1AnoVZS"
   },
   "outputs": [
    {
     "data": {
      "text/html": [
       "<div>\n",
       "<style scoped>\n",
       "    .dataframe tbody tr th:only-of-type {\n",
       "        vertical-align: middle;\n",
       "    }\n",
       "\n",
       "    .dataframe tbody tr th {\n",
       "        vertical-align: top;\n",
       "    }\n",
       "\n",
       "    .dataframe thead th {\n",
       "        text-align: right;\n",
       "    }\n",
       "</style>\n",
       "<table border=\"1\" class=\"dataframe\">\n",
       "  <thead>\n",
       "    <tr style=\"text-align: right;\">\n",
       "      <th></th>\n",
       "      <th>London_Borough</th>\n",
       "      <th>ID</th>\n",
       "      <th>1995-01-01 00:00:00</th>\n",
       "      <th>1995-02-01 00:00:00</th>\n",
       "      <th>1995-03-01 00:00:00</th>\n",
       "      <th>1995-04-01 00:00:00</th>\n",
       "      <th>1995-05-01 00:00:00</th>\n",
       "      <th>1995-06-01 00:00:00</th>\n",
       "      <th>1995-07-01 00:00:00</th>\n",
       "      <th>1995-08-01 00:00:00</th>\n",
       "      <th>...</th>\n",
       "      <th>2021-11-01 00:00:00</th>\n",
       "      <th>2021-12-01 00:00:00</th>\n",
       "      <th>2022-01-01 00:00:00</th>\n",
       "      <th>2022-02-01 00:00:00</th>\n",
       "      <th>2022-03-01 00:00:00</th>\n",
       "      <th>2022-04-01 00:00:00</th>\n",
       "      <th>2022-05-01 00:00:00</th>\n",
       "      <th>2022-06-01 00:00:00</th>\n",
       "      <th>2022-07-01 00:00:00</th>\n",
       "      <th>2022-08-01 00:00:00</th>\n",
       "    </tr>\n",
       "  </thead>\n",
       "  <tbody>\n",
       "    <tr>\n",
       "      <th>1</th>\n",
       "      <td>City of London</td>\n",
       "      <td>E09000001</td>\n",
       "      <td>91448.98487</td>\n",
       "      <td>82202.77314</td>\n",
       "      <td>79120.70256</td>\n",
       "      <td>77101.20804</td>\n",
       "      <td>84409.14932</td>\n",
       "      <td>94900.51244</td>\n",
       "      <td>110128.0423</td>\n",
       "      <td>112329.4376</td>\n",
       "      <td>...</td>\n",
       "      <td>799674.7093</td>\n",
       "      <td>809376.0744</td>\n",
       "      <td>795130.20381</td>\n",
       "      <td>841835.34232</td>\n",
       "      <td>811271.13574</td>\n",
       "      <td>842758.40961</td>\n",
       "      <td>813520.74676</td>\n",
       "      <td>840302.71474</td>\n",
       "      <td>820438.51245</td>\n",
       "      <td>810105.5166</td>\n",
       "    </tr>\n",
       "    <tr>\n",
       "      <th>2</th>\n",
       "      <td>Barking &amp; Dagenham</td>\n",
       "      <td>E09000002</td>\n",
       "      <td>50460.2266</td>\n",
       "      <td>51085.77983</td>\n",
       "      <td>51268.96956</td>\n",
       "      <td>53133.50526</td>\n",
       "      <td>53042.24852</td>\n",
       "      <td>53700.34831</td>\n",
       "      <td>52113.12157</td>\n",
       "      <td>52232.19868</td>\n",
       "      <td>...</td>\n",
       "      <td>328530.925</td>\n",
       "      <td>330850.6123</td>\n",
       "      <td>337172.7301</td>\n",
       "      <td>340876.55884</td>\n",
       "      <td>341939.60089</td>\n",
       "      <td>336872.40725</td>\n",
       "      <td>338983.75876</td>\n",
       "      <td>347835.52623</td>\n",
       "      <td>352359.05665</td>\n",
       "      <td>354051.98905</td>\n",
       "    </tr>\n",
       "    <tr>\n",
       "      <th>3</th>\n",
       "      <td>Barnet</td>\n",
       "      <td>E09000003</td>\n",
       "      <td>93284.51832</td>\n",
       "      <td>93190.16963</td>\n",
       "      <td>92247.52435</td>\n",
       "      <td>90762.87492</td>\n",
       "      <td>90258.00033</td>\n",
       "      <td>90107.23471</td>\n",
       "      <td>91441.24768</td>\n",
       "      <td>92361.31512</td>\n",
       "      <td>...</td>\n",
       "      <td>572810.1795</td>\n",
       "      <td>574877.2915</td>\n",
       "      <td>579683.00638</td>\n",
       "      <td>577030.36727</td>\n",
       "      <td>581310.81733</td>\n",
       "      <td>590638.40858</td>\n",
       "      <td>597510.51644</td>\n",
       "      <td>603261.46212</td>\n",
       "      <td>601111.39405</td>\n",
       "      <td>608725.72939</td>\n",
       "    </tr>\n",
       "    <tr>\n",
       "      <th>4</th>\n",
       "      <td>Bexley</td>\n",
       "      <td>E09000004</td>\n",
       "      <td>64958.09036</td>\n",
       "      <td>64787.92069</td>\n",
       "      <td>64367.49344</td>\n",
       "      <td>64277.66881</td>\n",
       "      <td>63997.13588</td>\n",
       "      <td>64252.32335</td>\n",
       "      <td>63722.70055</td>\n",
       "      <td>64432.60005</td>\n",
       "      <td>...</td>\n",
       "      <td>377659.1213</td>\n",
       "      <td>378364.5877</td>\n",
       "      <td>381100.58195</td>\n",
       "      <td>384340.63511</td>\n",
       "      <td>388679.76934</td>\n",
       "      <td>387431.61795</td>\n",
       "      <td>386861.33254</td>\n",
       "      <td>390232.14841</td>\n",
       "      <td>396541.15377</td>\n",
       "      <td>404141.23999</td>\n",
       "    </tr>\n",
       "    <tr>\n",
       "      <th>5</th>\n",
       "      <td>Brent</td>\n",
       "      <td>E09000005</td>\n",
       "      <td>71306.56698</td>\n",
       "      <td>72022.26197</td>\n",
       "      <td>72015.76274</td>\n",
       "      <td>72965.63094</td>\n",
       "      <td>73704.04743</td>\n",
       "      <td>74310.48167</td>\n",
       "      <td>74127.03788</td>\n",
       "      <td>73547.0411</td>\n",
       "      <td>...</td>\n",
       "      <td>519123.411</td>\n",
       "      <td>522416.266</td>\n",
       "      <td>522521.52277</td>\n",
       "      <td>525847.50963</td>\n",
       "      <td>530939.02353</td>\n",
       "      <td>538639.04596</td>\n",
       "      <td>539195.09598</td>\n",
       "      <td>528814.72945</td>\n",
       "      <td>548565.47794</td>\n",
       "      <td>565440.54799</td>\n",
       "    </tr>\n",
       "  </tbody>\n",
       "</table>\n",
       "<p>5 rows × 334 columns</p>\n",
       "</div>"
      ],
      "text/plain": [
       "0      London_Borough         ID 1995-01-01 00:00:00 1995-02-01 00:00:00  \\\n",
       "1      City of London  E09000001         91448.98487         82202.77314   \n",
       "2  Barking & Dagenham  E09000002          50460.2266         51085.77983   \n",
       "3              Barnet  E09000003         93284.51832         93190.16963   \n",
       "4              Bexley  E09000004         64958.09036         64787.92069   \n",
       "5               Brent  E09000005         71306.56698         72022.26197   \n",
       "\n",
       "0 1995-03-01 00:00:00 1995-04-01 00:00:00 1995-05-01 00:00:00  \\\n",
       "1         79120.70256         77101.20804         84409.14932   \n",
       "2         51268.96956         53133.50526         53042.24852   \n",
       "3         92247.52435         90762.87492         90258.00033   \n",
       "4         64367.49344         64277.66881         63997.13588   \n",
       "5         72015.76274         72965.63094         73704.04743   \n",
       "\n",
       "0 1995-06-01 00:00:00 1995-07-01 00:00:00 1995-08-01 00:00:00  ...  \\\n",
       "1         94900.51244         110128.0423         112329.4376  ...   \n",
       "2         53700.34831         52113.12157         52232.19868  ...   \n",
       "3         90107.23471         91441.24768         92361.31512  ...   \n",
       "4         64252.32335         63722.70055         64432.60005  ...   \n",
       "5         74310.48167         74127.03788          73547.0411  ...   \n",
       "\n",
       "0 2021-11-01 00:00:00 2021-12-01 00:00:00 2022-01-01 00:00:00  \\\n",
       "1         799674.7093         809376.0744        795130.20381   \n",
       "2          328530.925         330850.6123         337172.7301   \n",
       "3         572810.1795         574877.2915        579683.00638   \n",
       "4         377659.1213         378364.5877        381100.58195   \n",
       "5          519123.411          522416.266        522521.52277   \n",
       "\n",
       "0 2022-02-01 00:00:00 2022-03-01 00:00:00 2022-04-01 00:00:00  \\\n",
       "1        841835.34232        811271.13574        842758.40961   \n",
       "2        340876.55884        341939.60089        336872.40725   \n",
       "3        577030.36727        581310.81733        590638.40858   \n",
       "4        384340.63511        388679.76934        387431.61795   \n",
       "5        525847.50963        530939.02353        538639.04596   \n",
       "\n",
       "0 2022-05-01 00:00:00 2022-06-01 00:00:00 2022-07-01 00:00:00  \\\n",
       "1        813520.74676        840302.71474        820438.51245   \n",
       "2        338983.75876        347835.52623        352359.05665   \n",
       "3        597510.51644        603261.46212        601111.39405   \n",
       "4        386861.33254        390232.14841        396541.15377   \n",
       "5        539195.09598        528814.72945        548565.47794   \n",
       "\n",
       "0 2022-08-01 00:00:00  \n",
       "1         810105.5166  \n",
       "2        354051.98905  \n",
       "3        608725.72939  \n",
       "4        404141.23999  \n",
       "5        565440.54799  \n",
       "\n",
       "[5 rows x 334 columns]"
      ]
     },
     "execution_count": 5,
     "metadata": {},
     "output_type": "execute_result"
    }
   ],
   "source": [
    "properties_T = properties_T.rename(columns = {'Unnamed: 0':'London_Borough', pd.NaT:'ID'})\n",
    "properties_T.head()"
   ]
  },
  {
   "cell_type": "markdown",
   "metadata": {
    "colab_type": "text",
    "id": "jy8BzXHmoWEw"
   },
   "source": [
    "**2.4.Transforming the data**\n",
    "\n",
    "Remember what Wes McKinney said about tidy data? \n",
    "\n",
    "You might need to **melt** your DataFrame here. "
   ]
  },
  {
   "cell_type": "code",
   "execution_count": 6,
   "metadata": {
    "colab": {},
    "colab_type": "code",
    "id": "S2wM0qLuo2Zt"
   },
   "outputs": [
    {
     "data": {
      "text/html": [
       "<div>\n",
       "<style scoped>\n",
       "    .dataframe tbody tr th:only-of-type {\n",
       "        vertical-align: middle;\n",
       "    }\n",
       "\n",
       "    .dataframe tbody tr th {\n",
       "        vertical-align: top;\n",
       "    }\n",
       "\n",
       "    .dataframe thead th {\n",
       "        text-align: right;\n",
       "    }\n",
       "</style>\n",
       "<table border=\"1\" class=\"dataframe\">\n",
       "  <thead>\n",
       "    <tr style=\"text-align: right;\">\n",
       "      <th></th>\n",
       "      <th>London_Borough</th>\n",
       "      <th>ID</th>\n",
       "      <th>Month</th>\n",
       "      <th>Average_price</th>\n",
       "    </tr>\n",
       "  </thead>\n",
       "  <tbody>\n",
       "    <tr>\n",
       "      <th>0</th>\n",
       "      <td>City of London</td>\n",
       "      <td>E09000001</td>\n",
       "      <td>1995-01-01</td>\n",
       "      <td>91448.98487</td>\n",
       "    </tr>\n",
       "    <tr>\n",
       "      <th>1</th>\n",
       "      <td>Barking &amp; Dagenham</td>\n",
       "      <td>E09000002</td>\n",
       "      <td>1995-01-01</td>\n",
       "      <td>50460.2266</td>\n",
       "    </tr>\n",
       "    <tr>\n",
       "      <th>2</th>\n",
       "      <td>Barnet</td>\n",
       "      <td>E09000003</td>\n",
       "      <td>1995-01-01</td>\n",
       "      <td>93284.51832</td>\n",
       "    </tr>\n",
       "    <tr>\n",
       "      <th>3</th>\n",
       "      <td>Bexley</td>\n",
       "      <td>E09000004</td>\n",
       "      <td>1995-01-01</td>\n",
       "      <td>64958.09036</td>\n",
       "    </tr>\n",
       "    <tr>\n",
       "      <th>4</th>\n",
       "      <td>Brent</td>\n",
       "      <td>E09000005</td>\n",
       "      <td>1995-01-01</td>\n",
       "      <td>71306.56698</td>\n",
       "    </tr>\n",
       "  </tbody>\n",
       "</table>\n",
       "</div>"
      ],
      "text/plain": [
       "       London_Borough         ID      Month Average_price\n",
       "0      City of London  E09000001 1995-01-01   91448.98487\n",
       "1  Barking & Dagenham  E09000002 1995-01-01    50460.2266\n",
       "2              Barnet  E09000003 1995-01-01   93284.51832\n",
       "3              Bexley  E09000004 1995-01-01   64958.09036\n",
       "4               Brent  E09000005 1995-01-01   71306.56698"
      ]
     },
     "execution_count": 6,
     "metadata": {},
     "output_type": "execute_result"
    }
   ],
   "source": [
    "clean_properties = pd.melt(properties_T, id_vars=['London_Borough', 'ID'])\n",
    "clean_properties=clean_properties.rename(columns = {0:'Month', 'value':'Average_price'})\n",
    "clean_properties.head()"
   ]
  },
  {
   "cell_type": "markdown",
   "metadata": {
    "colab_type": "text",
    "id": "7kIsgAo7o3mf"
   },
   "source": [
    "Remember to make sure your column data types are all correct. Average prices, for example, should be floating point numbers... "
   ]
  },
  {
   "cell_type": "code",
   "execution_count": 7,
   "metadata": {
    "colab": {},
    "colab_type": "code",
    "id": "ZcR4IHbcpOaq"
   },
   "outputs": [],
   "source": [
    "clean_properties['Average_price'] = pd.to_numeric(clean_properties['Average_price'])"
   ]
  },
  {
   "cell_type": "markdown",
   "metadata": {
    "colab_type": "text",
    "id": "knLUXHLypOtw"
   },
   "source": [
    "**2.5. Cleaning the data (part 3)**\n",
    "\n",
    "Do we have an equal number of observations in the ID, Average Price, Month, and London Borough columns? Remember that there are only 32 London Boroughs. How many entries do you have in that column? \n",
    "\n",
    "Check out the contents of the London Borough column, and if you find null values, get rid of them however you see fit. "
   ]
  },
  {
   "cell_type": "code",
   "execution_count": 8,
   "metadata": {
    "colab": {},
    "colab_type": "code",
    "id": "BnvTW5a3p0fC"
   },
   "outputs": [],
   "source": [
    "# Check: clean_properties['London_Borough'].unique()\n",
    "\n",
    "cleaner_properties = clean_properties.dropna()\n",
    "\n",
    "# Check: display(cleaner_properties)\n",
    "# Check: cleaner_properties['London_Borough'].unique()\n",
    "\n",
    "notBorough = ['Inner London', 'Outer London', \n",
    "               'NORTH EAST', 'NORTH WEST', 'YORKS & THE HUMBER', \n",
    "               'EAST MIDLANDS', 'WEST MIDLANDS',\n",
    "              'EAST OF ENGLAND', 'LONDON', 'SOUTH EAST', \n",
    "              'SOUTH WEST', 'England']\n",
    "\n",
    "\n",
    "\n",
    "cleaner_properties = cleaner_properties[~cleaner_properties.London_Borough.isin(notBorough)]\n",
    "cleaner_properties.head()\n",
    "\n",
    "cleanest_properties = cleaner_properties"
   ]
  },
  {
   "cell_type": "markdown",
   "metadata": {
    "colab_type": "text",
    "id": "PGEx6mJsp6dG"
   },
   "source": [
    "**2.6. Visualizing the data**\n",
    "\n",
    "To visualize the data, why not subset on a particular London Borough? Maybe do a line plot of Month against Average Price?"
   ]
  },
  {
   "cell_type": "code",
   "execution_count": 9,
   "metadata": {
    "colab": {},
    "colab_type": "code",
    "id": "nAg5pT9cqHAR"
   },
   "outputs": [
    {
     "data": {
      "image/png": "[encoded data removed]",
      "text/plain": [
       "<Figure size 432x288 with 1 Axes>"
      ]
     },
     "metadata": {
      "needs_background": "light"
     },
     "output_type": "display_data"
    }
   ],
   "source": [
    "camden_prices = cleanest_properties[cleanest_properties['London_Borough'] == 'Camden']\n",
    "viz = camden_prices.plot(kind = 'line', x = 'Month', y = 'Average_price')\n",
    "plt.show(viz)"
   ]
  },
  {
   "cell_type": "markdown",
   "metadata": {
    "colab_type": "text",
    "id": "aWTPqSJeqHnC"
   },
   "source": [
    "To limit the number of data points you have, you might want to extract the year from every month value your *Month* column. \n",
    "\n",
    "To this end, you *could* apply a ***lambda function***. Your logic could work as follows:\n",
    "1. look through the `Month` column\n",
    "2. extract the year from each individual value in that column \n",
    "3. store that corresponding year as separate column. \n",
    "\n",
    "Whether you go ahead with this is up to you. Just so long as you answer our initial brief: which boroughs of London have seen the greatest house price increase, on average, over the past two decades? "
   ]
  },
  {
   "cell_type": "code",
   "execution_count": 10,
   "metadata": {
    "colab": {},
    "colab_type": "code",
    "id": "e0DF92cyqnu8"
   },
   "outputs": [
    {
     "data": {
      "text/html": [
       "<div>\n",
       "<style scoped>\n",
       "    .dataframe tbody tr th:only-of-type {\n",
       "        vertical-align: middle;\n",
       "    }\n",
       "\n",
       "    .dataframe tbody tr th {\n",
       "        vertical-align: top;\n",
       "    }\n",
       "\n",
       "    .dataframe thead th {\n",
       "        text-align: right;\n",
       "    }\n",
       "</style>\n",
       "<table border=\"1\" class=\"dataframe\">\n",
       "  <thead>\n",
       "    <tr style=\"text-align: right;\">\n",
       "      <th></th>\n",
       "      <th>London_Borough</th>\n",
       "      <th>Year</th>\n",
       "      <th>Average_price</th>\n",
       "    </tr>\n",
       "  </thead>\n",
       "  <tbody>\n",
       "    <tr>\n",
       "      <th>0</th>\n",
       "      <td>Barking &amp; Dagenham</td>\n",
       "      <td>1995</td>\n",
       "      <td>51817.969390</td>\n",
       "    </tr>\n",
       "    <tr>\n",
       "      <th>1</th>\n",
       "      <td>Barking &amp; Dagenham</td>\n",
       "      <td>1996</td>\n",
       "      <td>51718.192690</td>\n",
       "    </tr>\n",
       "    <tr>\n",
       "      <th>2</th>\n",
       "      <td>Barking &amp; Dagenham</td>\n",
       "      <td>1997</td>\n",
       "      <td>55974.262309</td>\n",
       "    </tr>\n",
       "    <tr>\n",
       "      <th>3</th>\n",
       "      <td>Barking &amp; Dagenham</td>\n",
       "      <td>1998</td>\n",
       "      <td>60285.821083</td>\n",
       "    </tr>\n",
       "    <tr>\n",
       "      <th>4</th>\n",
       "      <td>Barking &amp; Dagenham</td>\n",
       "      <td>1999</td>\n",
       "      <td>65320.934441</td>\n",
       "    </tr>\n",
       "  </tbody>\n",
       "</table>\n",
       "</div>"
      ],
      "text/plain": [
       "       London_Borough  Year  Average_price\n",
       "0  Barking & Dagenham  1995   51817.969390\n",
       "1  Barking & Dagenham  1996   51718.192690\n",
       "2  Barking & Dagenham  1997   55974.262309\n",
       "3  Barking & Dagenham  1998   60285.821083\n",
       "4  Barking & Dagenham  1999   65320.934441"
      ]
     },
     "execution_count": 10,
     "metadata": {},
     "output_type": "execute_result"
    }
   ],
   "source": [
    "cleanest_properties['Year'] = cleanest_properties['Month'].apply(lambda t: t.year)\n",
    "\n",
    "# Check: cleanest_properties.tail()\n",
    "\n",
    "cleanest_group = cleanest_properties.groupby(by=['London_Borough', 'Year']).mean()\n",
    "cleanest_group = cleanest_group.reset_index()\n",
    "cleanest_group.head()"
   ]
  },
  {
   "cell_type": "markdown",
   "metadata": {
    "colab_type": "text",
    "id": "2knuTxAEqoJ4"
   },
   "source": [
    "**3. Modeling**\n",
    "\n",
    "Consider creating a function that will calculate a ratio of house prices, comparing the price of a house in 2018 to the price in 1998.\n",
    "\n",
    "Consider calling this function create_price_ratio.\n",
    "\n",
    "You'd want this function to:\n",
    "1. Take a filter of dfg, specifically where this filter constrains the London_Borough, as an argument. For example, one admissible argument should be: dfg[dfg['London_Borough']=='Camden'].\n",
    "2. Get the Average Price for that Borough, for the years 1998 and 2018.\n",
    "4. Calculate the ratio of the Average Price for 1998 divided by the Average Price for 2018.\n",
    "5. Return that ratio.\n",
    "\n",
    "Once you've written this function, you ultimately want to use it to iterate through all the unique London_Boroughs and work out the ratio capturing the difference of house prices between 1998 and 2018.\n",
    "\n",
    "Bear in mind: you don't have to write a function like this if you don't want to. If you can solve the brief otherwise, then great! \n",
    "\n",
    "***Hint***: This section should test the skills you acquired in:\n",
    "- Python Data Science Toolbox - Part One, all modules"
   ]
  },
  {
   "cell_type": "code",
   "execution_count": 11,
   "metadata": {
    "colab": {},
    "colab_type": "code",
    "id": "cKTyr437UgDa"
   },
   "outputs": [
    {
     "name": "stdout",
     "output_type": "stream",
     "text": [
      "           Borough  Price Ratio\n",
      "11         Hackney     6.198286\n",
      "30  Waltham Forest     5.834756\n",
      "27       Southwark     5.516485\n",
      "22        Lewisham     5.449221\n",
      "32     Westminster     5.353565\n"
     ]
    },
    {
     "data": {
      "image/png": "[encoded data removed]",
      "text/plain": [
       "<Figure size 432x288 with 1 Axes>"
      ]
     },
     "metadata": {
      "needs_background": "light"
     },
     "output_type": "display_data"
    }
   ],
   "source": [
    "def create_price_ratio(df) :\n",
    "    y1998 = float(df['Average_price'][df['Year'] == 1998])\n",
    "    y2018 = float(df['Average_price'][df['Year'] == 2018])\n",
    "    \n",
    "    ratio = [y2018 / y1998]\n",
    "    return ratio\n",
    "\n",
    "create_price_ratio(cleanest_group[cleanest_group['London_Borough']=='Barking & Dagenham'])\n",
    "\n",
    "final = {}\n",
    "\n",
    "for b in cleanest_group['London_Borough'].unique() :\n",
    "    borough = cleanest_group[cleanest_group['London_Borough'] == b]\n",
    "    final[b] = create_price_ratio(borough)\n",
    "\n",
    "# Check: print(final)\n",
    "\n",
    "ratio_frame = pd.DataFrame(final)\n",
    "\n",
    "ratio_frame_T = ratio_frame.transpose()\n",
    "ratio_frame = ratio_frame_T.reset_index()\n",
    "ratio_frame = ratio_frame.rename(columns = {'index':'Borough',0:'Price Ratio'})\n",
    "\n",
    "# Find Boroughs with top 5 ratios (price increase)\n",
    "\n",
    "top5 = ratio_frame.sort_values(by='Price Ratio',ascending=False).head(5)\n",
    "print(top5)\n",
    "\n",
    "viz = top5.plot(kind='bar', x='Borough', y='Price Ratio')\n",
    "plt.show(viz)"
   ]
  },
  {
   "cell_type": "markdown",
   "metadata": {
    "colab_type": "text",
    "id": "NzYUI7FxJpgv"
   },
   "source": [
    "### 4. Conclusion\n",
    "What can you conclude? Type out your conclusion below. \n",
    "\n",
    "Look back at your notebook. Think about how you might summarize what you have done, and prepare a quick presentation on it to your mentor at your next meeting. \n",
    "\n",
    "We hope you enjoyed this practical project. It should have consolidated your data hygiene and pandas skills by looking at a real-world problem involving just the kind of dataset you might encounter as a budding data scientist. Congratulations, and looking forward to seeing you at the next step in the course! "
   ]
  }
 ],
 "metadata": {
  "colab": {
   "collapsed_sections": [],
   "name": "Springboard Data Science Career Track Unit 4 Challenge - Tier 3 Complete .ipynb",
   "provenance": []
  },
  "kernelspec": {
   "display_name": "Python 3 (ipykernel)",
   "language": "python",
   "name": "python3"
  },
  "language_info": {
   "codemirror_mode": {
    "name": "ipython",
    "version": 3
   },
   "file_extension": ".py",
   "mimetype": "text/x-python",
   "name": "python",
   "nbconvert_exporter": "python",
   "pygments_lexer": "ipython3",
   "version": "3.9.12"
  }
 },
 "nbformat": 4,
 "nbformat_minor": 1
}
